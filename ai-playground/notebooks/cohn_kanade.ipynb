{
 "cells": [
  {
   "cell_type": "markdown",
   "metadata": {},
   "source": [
    "# Cohn Kanade Data Preparation\n",
    "\n",
    "## Structure\n",
    "\n",
    "0=neutral,\n",
    "1=anger,\n",
    "2=contempt, \n",
    "3=disgust, \n",
    "4=fear, \n",
    "5=happy, \n",
    "6=sadness, \n",
    "7=surprise\n",
    "\n"
   ]
  },
  {
   "cell_type": "code",
   "execution_count": 4,
   "metadata": {
    "collapsed": true
   },
   "outputs": [],
   "source": [
    "# important paths\n",
    "dataset_path = './..//datasets/cohn_kanade/'\n",
    "images_path = dataset_path + 'cohn-kanade-images/'\n",
    "emotions_path = dataset_path + 'Emotion/'\n",
    "\n",
    "# these are not really needed but I'm including them anyway\n",
    "facs_path = dataset_path + 'FACS/'\n",
    "landmarks_path = dataset_path + 'Landmarks/'"
   ]
  },
  {
   "cell_type": "code",
   "execution_count": null,
   "metadata": {
    "collapsed": true
   },
   "outputs": [],
   "source": [
    "# imports\n",
    "import numpy as np\n",
    "import pandas as pd"
   ]
  },
  {
   "cell_type": "markdown",
   "metadata": {},
   "source": []
  },
  {
   "cell_type": "code",
   "execution_count": null,
   "metadata": {
    "collapsed": true
   },
   "outputs": [],
   "source": [
    "def images_to_dataframe():\n",
    "    \n",
    "    \n",
    "def get_corresponding_emotion():\n",
    "    \n",
    "    \n",
    "def \n",
    "    \n"
   ]
  }
 ],
 "metadata": {
  "kernelspec": {
   "display_name": "Python 3",
   "language": "python",
   "name": "python3"
  },
  "language_info": {
   "codemirror_mode": {
    "name": "ipython",
    "version": 3
   },
   "file_extension": ".py",
   "mimetype": "text/x-python",
   "name": "python",
   "nbconvert_exporter": "python",
   "pygments_lexer": "ipython3",
   "version": "3.6.2"
  }
 },
 "nbformat": 4,
 "nbformat_minor": 2
}
